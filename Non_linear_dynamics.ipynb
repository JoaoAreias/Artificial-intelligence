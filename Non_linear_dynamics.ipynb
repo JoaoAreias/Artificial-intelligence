{
  "nbformat": 4,
  "nbformat_minor": 0,
  "metadata": {
    "colab": {
      "name": "Non-linear dynamics.ipynb",
      "version": "0.3.2",
      "provenance": [],
      "collapsed_sections": [
        "lTYuXhyGz8SY"
      ],
      "include_colab_link": true
    },
    "kernelspec": {
      "name": "python3",
      "display_name": "Python 3"
    }
  },
  "cells": [
    {
      "cell_type": "markdown",
      "metadata": {
        "id": "view-in-github",
        "colab_type": "text"
      },
      "source": [
        "<a href=\"https://colab.research.google.com/github/JoaoAreias/Artificial-intelligence/blob/master/Non_linear_dynamics.ipynb\" target=\"_parent\"><img src=\"https://colab.research.google.com/assets/colab-badge.svg\" alt=\"Open In Colab\"/></a>"
      ]
    },
    {
      "metadata": {
        "id": "lF3Bg4A-r73J",
        "colab_type": "text"
      },
      "cell_type": "markdown",
      "source": [
        "Answers to quizzes on the nonlinear dynamics course on https://www.complexityexplorer.org/"
      ]
    },
    {
      "metadata": {
        "id": "xiS2XuQy0Ks7",
        "colab_type": "text"
      },
      "cell_type": "markdown",
      "source": [
        "### Dependencies:"
      ]
    },
    {
      "metadata": {
        "id": "DiMTOyCV0jgg",
        "colab_type": "code",
        "colab": {}
      },
      "cell_type": "code",
      "source": [
        "import matplotlib.pyplot as plt\n",
        "import numpy as np"
      ],
      "execution_count": 0,
      "outputs": []
    },
    {
      "metadata": {
        "id": "lTYuXhyGz8SY",
        "colab_type": "text"
      },
      "cell_type": "markdown",
      "source": [
        "### Maps and difference equations"
      ]
    },
    {
      "metadata": {
        "id": "ESqrxJcr0FJo",
        "colab_type": "text"
      },
      "cell_type": "markdown",
      "source": [
        "#### Question 1:\n",
        "Calculate the third iterate of the logistic map with r = 2.5 starting from x0 = 0.5.  What is the third iterate you calculated?  (Choose the one that's closest; different computers and calculators do arithmetic slightly different, so your answer may vary a bit)."
      ]
    },
    {
      "metadata": {
        "id": "ZI6jGCfwzyeg",
        "colab_type": "code",
        "colab": {}
      },
      "cell_type": "code",
      "source": [
        "def apply_map(func, x0, n, args=()):\n",
        "  \"\"\" Recieves a function \"func\"\n",
        "  and apply it to x0 n times.\n",
        "  \n",
        "  Additional arguments are passed \n",
        "  in args\n",
        "  \"\"\"\n",
        "  x = x0\n",
        "  for _ in range(n):\n",
        "    x = func(x, *args)\n",
        "  return x"
      ],
      "execution_count": 0,
      "outputs": []
    },
    {
      "metadata": {
        "id": "xEn0URO0_xr-",
        "colab_type": "code",
        "colab": {
          "base_uri": "https://localhost:8080/",
          "height": 54
        },
        "outputId": "b279641a-2911-4ec3-8145-5711a01adbe5"
      },
      "cell_type": "code",
      "source": [
        "logistic_map = lambda x, r: r*x*(1-x)\n",
        "print(apply_map(logistic_map, x0=0.5, n=3, args=(2.5,)))"
      ],
      "execution_count": 3,
      "outputs": [
        {
          "output_type": "stream",
          "text": [
            "0.606536865234375\n"
          ],
          "name": "stdout"
        }
      ]
    },
    {
      "metadata": {
        "id": "aX7wQtTOA5jc",
        "colab_type": "text"
      },
      "cell_type": "markdown",
      "source": [
        "#### Question 2:\n",
        "Write a simple program that uses a loop to compute a specified number n of iterates of the logistic map, starting from a specified initial condition x0, with a specified r parameter.  Your program should take n, x0, and r as inputs or arguments.  Check your program against the answer to the first problem above.\n",
        "\n",
        "Using your program, compute the tenth iterate of the logistic map starting from x0 = 0.2, with r = 2.6.  What is the tenth iterate?  Again, choose the value that's closest to what your program produced."
      ]
    },
    {
      "metadata": {
        "id": "4SDbWDNAA9Xu",
        "colab_type": "code",
        "colab": {
          "base_uri": "https://localhost:8080/",
          "height": 54
        },
        "outputId": "7d73c6d7-3918-4c91-b327-508c2ed4f191"
      },
      "cell_type": "code",
      "source": [
        "print(apply_map(logistic_map, x0=0.2, n=10, args=(2.6,)))"
      ],
      "execution_count": 4,
      "outputs": [
        {
          "output_type": "stream",
          "text": [
            "0.6156679884917287\n"
          ],
          "name": "stdout"
        }
      ]
    },
    {
      "metadata": {
        "id": "cRTSbYtjqIZ5",
        "colab_type": "text"
      },
      "cell_type": "markdown",
      "source": [
        "### Parameters and bifurcation"
      ]
    },
    {
      "metadata": {
        "id": "OFfj983DqvmG",
        "colab_type": "text"
      },
      "cell_type": "markdown",
      "source": [
        "#### Question 1:\n",
        "\n",
        "Use your logistic map program to explore the idea of sensitive dependence on initial conditions.  Generate two trajectories of the logistic map $\\{x_n\\}$ and $\\{\\hat x_n\\}$.  For each of these experiments the initial condition of $\\{x_n\\}$ should be $x_n = 0.2$ and for $\\{\\hat x_n\\}$ you should use $\\hat x_n = 0.200001$.  For now, fix r = 2, generate these two trajectories and then plot $|x_n - \\hat x_n|$  vs n.  Now repeat this for r = 3.4, and r = 3.72.  Compare your results to the three plots below and then answer the questions that follow."
      ]
    },
    {
      "metadata": {
        "id": "V1-my4dos9ed",
        "colab_type": "code",
        "colab": {}
      },
      "cell_type": "code",
      "source": [
        "def simulation(func, x0, _x0, n=100, plot=True, args=()):\n",
        "  \"\"\"Recieves a function and two\n",
        "  different stating positions. Simulate\n",
        "  and plot the difference of their results.\"\"\"\n",
        "  \n",
        "  x = x0\n",
        "  _x = _x0\n",
        "  \n",
        "  y = np.array([x - _x])\n",
        "  for _ in range(n):\n",
        "    x = func(x, *args)\n",
        "    _x = func(_x, *args)  \n",
        "    y = np.hstack([y, (x - _x)])\n",
        "  \n",
        "  y = np.abs(y)\n",
        "  \n",
        "  if plot:\n",
        "    plt.plot(range(n+1), y, 'ro')\n",
        "    plt.xlabel(\"n\")\n",
        "    plt.ylabel(\"| Xn - X'n |\")\n",
        "    plt.show()\n",
        "  \n",
        "  return y"
      ],
      "execution_count": 0,
      "outputs": []
    },
    {
      "metadata": {
        "id": "WhW-kkizKbzy",
        "colab_type": "code",
        "colab": {}
      },
      "cell_type": "code",
      "source": [
        "logistic_map = lambda x, r: x*r*(1-x) "
      ],
      "execution_count": 0,
      "outputs": []
    },
    {
      "metadata": {
        "id": "YJH5Mzb0LPrK",
        "colab_type": "text"
      },
      "cell_type": "markdown",
      "source": [
        "##### Simulation for r=2"
      ]
    },
    {
      "metadata": {
        "id": "QY34_G2oLKLi",
        "colab_type": "code",
        "colab": {
          "base_uri": "https://localhost:8080/",
          "height": 361
        },
        "outputId": "cf83f0fb-e8db-48fb-ae82-ff1229a0fa1f"
      },
      "cell_type": "code",
      "source": [
        "y = simulation(logistic_map, 0.2, 0.200001, args=(2,))"
      ],
      "execution_count": 15,
      "outputs": [
        {
          "output_type": "display_data",
          "data": {
            "image/png": "[encoded data removed]",
            "text/plain": [
              "<matplotlib.figure.Figure at 0x7feebfd753c8>"
            ]
          },
          "metadata": {
            "tags": []
          }
        }
      ]
    },
    {
      "metadata": {
        "id": "yjNyGTNDQdL4",
        "colab_type": "text"
      },
      "cell_type": "markdown",
      "source": [
        "For r = 2, what is the difference between the 500th iterates, i.e., what is $|x_{500} - \\hat x_{500}|$?"
      ]
    },
    {
      "metadata": {
        "id": "iAj0hLcoPnWp",
        "colab_type": "code",
        "colab": {
          "base_uri": "https://localhost:8080/",
          "height": 34
        },
        "outputId": "edba1470-c106-4935-86bf-8e3dc78aee94"
      },
      "cell_type": "code",
      "source": [
        "y = simulation(logistic_map, 0.2, 0.200001, n=500, plot=False, args=(2,))\n",
        "print(y[499])"
      ],
      "execution_count": 8,
      "outputs": [
        {
          "output_type": "stream",
          "text": [
            "5.551115123125783e-17\n"
          ],
          "name": "stdout"
        }
      ]
    },
    {
      "metadata": {
        "id": "wMUcB19MOjy6",
        "colab_type": "text"
      },
      "cell_type": "markdown",
      "source": [
        "##### Simulation for r=3.4"
      ]
    },
    {
      "metadata": {
        "id": "Ao8ABcipOjUr",
        "colab_type": "code",
        "colab": {
          "base_uri": "https://localhost:8080/",
          "height": 361
        },
        "outputId": "ba00002a-8c14-4700-d91b-9902a931467a"
      },
      "cell_type": "code",
      "source": [
        "y = simulation(logistic_map, 0.2, 0.200001, args=(3.4,))"
      ],
      "execution_count": 16,
      "outputs": [
        {
          "output_type": "display_data",
          "data": {
            "image/png": "[encoded data removed]",
            "text/plain": [
              "<matplotlib.figure.Figure at 0x7feec267dd68>"
            ]
          },
          "metadata": {
            "tags": []
          }
        }
      ]
    },
    {
      "metadata": {
        "id": "6d9MreorQ7_w",
        "colab_type": "text"
      },
      "cell_type": "markdown",
      "source": [
        "For r = 3.4, what is the difference between the 500th iterates, i.e., what is $|x_{500} - \\hat x_{500}|$?"
      ]
    },
    {
      "metadata": {
        "id": "vmGh1MWxPx0s",
        "colab_type": "code",
        "colab": {
          "base_uri": "https://localhost:8080/",
          "height": 34
        },
        "outputId": "ac2d53d9-a8c2-49a2-b9c7-21695f4d40d1"
      },
      "cell_type": "code",
      "source": [
        "y = simulation(logistic_map, 0.2, 0.200001, n=500, plot=False, args=(3.4,))\n",
        "print(y[499])"
      ],
      "execution_count": 10,
      "outputs": [
        {
          "output_type": "stream",
          "text": [
            "0.0\n"
          ],
          "name": "stdout"
        }
      ]
    },
    {
      "metadata": {
        "id": "xupZukX6Ooq9",
        "colab_type": "text"
      },
      "cell_type": "markdown",
      "source": [
        "##### Simulation for r=3.72"
      ]
    },
    {
      "metadata": {
        "id": "7-U0KSzVOxM7",
        "colab_type": "code",
        "colab": {
          "base_uri": "https://localhost:8080/",
          "height": 361
        },
        "outputId": "1165eec3-ba6c-4219-a7fb-f872748adf61"
      },
      "cell_type": "code",
      "source": [
        "y = simulation(logistic_map, 0.2, 0.200001, args=(3.72,))"
      ],
      "execution_count": 17,
      "outputs": [
        {
          "output_type": "display_data",
          "data": {
            "image/png": "[encoded data removed]",
            "text/plain": [
              "<matplotlib.figure.Figure at 0x7feebfd94048>"
            ]
          },
          "metadata": {
            "tags": []
          }
        }
      ]
    },
    {
      "metadata": {
        "id": "7uDfmZZ3RSIu",
        "colab_type": "text"
      },
      "cell_type": "markdown",
      "source": [
        "For r = 3.72, what is the average absolute difference for the first 5,000 iterates?"
      ]
    },
    {
      "metadata": {
        "id": "7v_y3GpxP4q9",
        "colab_type": "code",
        "colab": {
          "base_uri": "https://localhost:8080/",
          "height": 34
        },
        "outputId": "4b086d62-4b8a-4761-bf3a-18932f8b93bf"
      },
      "cell_type": "code",
      "source": [
        "y = simulation(logistic_map, 0.2, 0.200001, n=5000, plot=False, args=(3.72,))\n",
        "print(np.mean(y))"
      ],
      "execution_count": 19,
      "outputs": [
        {
          "output_type": "stream",
          "text": [
            "0.2436076489890074\n"
          ],
          "name": "stdout"
        }
      ]
    },
    {
      "metadata": {
        "id": "QagR00NnUdnC",
        "colab_type": "text"
      },
      "cell_type": "markdown",
      "source": [
        "For r = 3.72, what is the average absolute difference for the first 500,000 iterates?"
      ]
    },
    {
      "metadata": {
        "id": "c09PILAVUewZ",
        "colab_type": "code",
        "colab": {
          "base_uri": "https://localhost:8080/",
          "height": 34
        },
        "outputId": "ef92e507-af08-4596-fac0-435a42fd58b3"
      },
      "cell_type": "code",
      "source": [
        "y = simulation(logistic_map, 0.2, 0.200001, n=500000, plot=False, args=(3.72,))\n",
        "print(np.mean(y))"
      ],
      "execution_count": 20,
      "outputs": [
        {
          "output_type": "stream",
          "text": [
            "0.2440668496058363\n"
          ],
          "name": "stdout"
        }
      ]
    }
  ]
}