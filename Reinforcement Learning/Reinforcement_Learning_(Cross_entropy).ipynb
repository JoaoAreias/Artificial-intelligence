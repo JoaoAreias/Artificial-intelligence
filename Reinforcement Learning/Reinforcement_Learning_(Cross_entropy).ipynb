{
  "nbformat": 4,
  "nbformat_minor": 0,
  "metadata": {
    "colab": {
      "name": "Reinforcement Learning (Cross entropy)",
      "provenance": [],
      "collapsed_sections": [],
      "include_colab_link": true
    },
    "kernelspec": {
      "name": "python3",
      "display_name": "Python 3"
    }
  },
  "cells": [
    {
      "cell_type": "markdown",
      "metadata": {
        "id": "view-in-github",
        "colab_type": "text"
      },
      "source": [
        "<a href=\"https://colab.research.google.com/github/JoaoAreias/Artificial-intelligence/blob/master/Reinforcement%20Learning/Reinforcement_Learning_(Cross_entropy).ipynb\" target=\"_parent\"><img src=\"https://colab.research.google.com/assets/colab-badge.svg\" alt=\"Open In Colab\"/></a>"
      ]
    },
    {
      "cell_type": "markdown",
      "metadata": {
        "id": "mKi7KXI2QBuv"
      },
      "source": [
        "# Aprendizado por reforço\n",
        "A aprendizagem por reforço é um método de apendizado não supervisionado que consiste em simular o ambiente e permitir que um agente interaja com o ambiente.\n",
        "\n",
        "<center>![Fonte: Wikipédia](https://upload.wikimedia.org/wikipedia/commons/1/1b/Reinforcement_learning_diagram.svg)</center>\n",
        "\n",
        "Este método busca recompensar atitudes positivas do agente no ambiente e penalizar atitudes negativas.\n",
        "\n",
        "### O agente\n",
        "O agente é o modelo para o qual esta se aplicando o algorítimo de aprendizagem sendo comumente utilizadas redes neurais para o processo. Este agente recebe as variáveis de estado que descrevem o ambiente e retornam a ação pela qual ele irá interagir com o ambiente.\n",
        "\n",
        "Uma vez a ação é executada o agente se encontrará em um outro estado e receberá uma recompença pelo feito. O objetivo do agente é maximizar a recompensa total.\n",
        "\n",
        "### Recompensa\n",
        "A recompensa define o objetivo pelo qual o agente deve ser otimizado. O passo de definir quais serão as recompenças deve ser feito com cuidado pois uma definição errônea [pode levar a resultados não desejados](https://blog.openai.com/faulty-reward-functions/). Os problemas e as formas de evita-los fogem do escopo deste tutorial.\n",
        "\n",
        "### Método da entropia cruzada\n",
        "\n",
        "O método da entropia cruzada consiste na utilização do método de Monte Carlo para avaliar a importância de um estimador. O algorítimo por si, consiste na repetição de 2 passos:\n",
        "\n",
        "- Colete amostras da distribuição estimada\n",
        "- Minimize a [entropia cruzada](https://en.wikipedia.org/wiki/Cross_entropy) entre a distribuição desejada e a distribuição estimada para que uma estimativa melhor seja feita no próximo passo.\n",
        "\n",
        "A aprendizagem por reforço busca representar o problema pelo processo de decisão de Markov onde a recompença esperada dada um estado depende apenas dos estados futuros. Para a aprendizagem por reforço nós buscamos modelar o processo de Markov que maximiza a recompença esperada."
      ]
    },
    {
      "cell_type": "markdown",
      "metadata": {
        "id": "0oVZb7pXdH-M"
      },
      "source": [
        "## Setup\n",
        "\n",
        "Vamos primeiro instalar algumas bibliotecas necessárias para a visualização."
      ]
    },
    {
      "cell_type": "code",
      "metadata": {
        "id": "LkJu5DfGd0OH",
        "colab": {
          "base_uri": "https://localhost:8080/"
        },
        "outputId": "abdec40e-d695-4d87-bbf7-2ff0fc54970e"
      },
      "source": [
        "!apt install -qq xvfb ffmpeg python-opengl -y\n",
        "\n",
        "!pip install -q pyvirtualdisplay\n",
        "!pip install -q piglet\n",
        "!pip install -q gym\n"
      ],
      "execution_count": 1,
      "outputs": [
        {
          "output_type": "stream",
          "text": [
            "ffmpeg is already the newest version (7:3.4.8-0ubuntu0.2).\n",
            "Suggested packages:\n",
            "  libgle3\n",
            "The following NEW packages will be installed:\n",
            "  python-opengl xvfb\n",
            "0 upgraded, 2 newly installed, 0 to remove and 39 not upgraded.\n",
            "Need to get 1,281 kB of archives.\n",
            "After this operation, 7,686 kB of additional disk space will be used.\n",
            "Selecting previously unselected package python-opengl.\n",
            "(Reading database ... 160772 files and directories currently installed.)\n",
            "Preparing to unpack .../python-opengl_3.1.0+dfsg-1_all.deb ...\n",
            "Unpacking python-opengl (3.1.0+dfsg-1) ...\n",
            "Selecting previously unselected package xvfb.\n",
            "Preparing to unpack .../xvfb_2%3a1.19.6-1ubuntu4.9_amd64.deb ...\n",
            "Unpacking xvfb (2:1.19.6-1ubuntu4.9) ...\n",
            "Setting up python-opengl (3.1.0+dfsg-1) ...\n",
            "Setting up xvfb (2:1.19.6-1ubuntu4.9) ...\n",
            "Processing triggers for man-db (2.8.3-2ubuntu0.1) ...\n",
            "\u001b[K     |████████████████████████████████| 71kB 3.1MB/s \n",
            "\u001b[?25h"
          ],
          "name": "stdout"
        }
      ]
    },
    {
      "cell_type": "markdown",
      "metadata": {
        "id": "Vj5rtc95eR5C"
      },
      "source": [
        "Agora podemos importar alguns módulos que vamos usar durante este tutorial"
      ]
    },
    {
      "cell_type": "code",
      "metadata": {
        "id": "bbxHRDIpdHka"
      },
      "source": [
        "from pyvirtualdisplay import Display\n",
        "display = Display(visible=0, size=(1400, 900))\n",
        "display.start()\n",
        "\n",
        "import numpy as np\n",
        "import tqdm\n",
        "import matplotlib.pyplot as plt\n",
        "%matplotlib inline"
      ],
      "execution_count": 2,
      "outputs": []
    },
    {
      "cell_type": "markdown",
      "metadata": {
        "id": "38A1ds9EaIny"
      },
      "source": [
        "## O ambiente\n",
        "Vamos começar primeiramente com o ambiente de simulação e o problema que queremos resolver. Para este caso vamos trabalhar com o controle de um pendulo invertido de forma a manter ele estável. Podemos agradecer a [OpenAi](https://openai.com/) por facilitar o nosso serviço disponibilizando um [ambiente para simulação](https://gym.openai.com/envs/CartPole-v1/)."
      ]
    },
    {
      "cell_type": "code",
      "metadata": {
        "id": "FmG-T8Ftbewi",
        "colab": {
          "base_uri": "https://localhost:8080/",
          "height": 303
        },
        "outputId": "69d07498-d475-42b8-d150-4ee28c576b4f"
      },
      "source": [
        "import gym\n",
        "env = gym.make(\"CartPole-v1\")\n",
        "env.reset()\n",
        "plt.imshow(env.render('rgb_array'))\n",
        "print(\"Espaço de estados:\", env.observation_space)\n",
        "print(\"Possiveis ações:\", env.action_space)"
      ],
      "execution_count": 3,
      "outputs": [
        {
          "output_type": "stream",
          "text": [
            "Espaço de estados: Box(-3.4028234663852886e+38, 3.4028234663852886e+38, (4,), float32)\n",
            "Possiveis ações: Discrete(2)\n"
          ],
          "name": "stdout"
        },
        {
          "output_type": "display_data",
          "data": {
            "image/png": "[encoded data removed]",
            "text/plain": [
              "<Figure size 432x288 with 1 Axes>"
            ]
          },
          "metadata": {
            "tags": [],
            "needs_background": "light"
          }
        }
      ]
    },
    {
      "cell_type": "markdown",
      "metadata": {
        "id": "BlOXF-nnZ1-X"
      },
      "source": [
        "## O Modelo\n"
      ]
    },
    {
      "cell_type": "markdown",
      "metadata": {
        "id": "xvlktkmchGFt"
      },
      "source": [
        "O modelo deve ter como entrada os estados e como saída as ações, assim, usamos uma rede com 4 neurônios na entrada e 2 neurônios na saída."
      ]
    },
    {
      "cell_type": "code",
      "metadata": {
        "id": "lvjj2fauP5R7"
      },
      "source": [
        "from keras.models import Sequential\n",
        "from keras.layers import Dense, Activation\n",
        "\n",
        "def make_model():\n",
        "  model = Sequential()\n",
        "  model.add(Dense(10, input_dim=4, activation='relu'))\n",
        "  model.add(Dense(10, activation='relu'))\n",
        "  model.add(Dense(2, activation='softmax'))\n",
        "  \n",
        "  model.compile(loss='categorical_crossentropy',optimizer='rmsprop', metrics=['accuracy'])\n",
        "  return model"
      ],
      "execution_count": 4,
      "outputs": []
    },
    {
      "cell_type": "code",
      "metadata": {
        "id": "6INeGQjOilWr"
      },
      "source": [
        "model = make_model()"
      ],
      "execution_count": 5,
      "outputs": []
    },
    {
      "cell_type": "markdown",
      "metadata": {
        "id": "F_kuHVQyjDux"
      },
      "source": [
        "## A simulação\n",
        "\n",
        "Agora podemos simular o ambiente para que possamos treinar a nossa rede neural. Primeiro criamos a função que irá realizar a simulação."
      ]
    },
    {
      "cell_type": "code",
      "metadata": {
        "id": "Q2fI9Ispjb07"
      },
      "source": [
        "def generate_session(tmax=10000):\n",
        "  states, actions = [], []\n",
        "  total_reward = 0\n",
        "  \n",
        "  state = env.reset()\n",
        "  for t in range(tmax):\n",
        "    probs = model.predict(np.expand_dims(state, axis=0))\n",
        "    action = np.random.choice(2, p=np.ravel(probs))\n",
        "    \n",
        "    new_s, r, done, _ = env.step(action)\n",
        "    \n",
        "    states.append(state)\n",
        "    actions.append(action)\n",
        "    total_reward += r - 0.1*np.abs(state[0])\n",
        "    \n",
        "    state = new_s\n",
        "    if done:\n",
        "      break\n",
        "  return states, actions, total_reward\n",
        "  "
      ],
      "execution_count": 6,
      "outputs": []
    },
    {
      "cell_type": "markdown",
      "metadata": {
        "id": "NWN7vOGImS6h"
      },
      "source": [
        "Queremos então selecionar quais simulações tiveram a melhor recompensa."
      ]
    },
    {
      "cell_type": "code",
      "metadata": {
        "id": "wMBbWOYtmgwY"
      },
      "source": [
        "def select_elites(states_batch, actions_batch, rewards_batch, percentile=50):\n",
        "  reward_threshold = np.percentile(rewards_batch, percentile)\n",
        "  \n",
        "  elite_states  = np.vstack(states_batch[rewards_batch >= reward_threshold])\n",
        "  elite_actions = np.hstack(actions_batch[rewards_batch >= reward_threshold])\n",
        "  \n",
        "  return elite_states, elite_actions"
      ],
      "execution_count": 7,
      "outputs": []
    },
    {
      "cell_type": "markdown",
      "metadata": {
        "id": "c-trh0mbnKll"
      },
      "source": [
        "Por último queremos ver o resultado do treinamento, assim, utilizei o código apresentado [aqui](https://github.com/yandexdataschool/Practical_RL), desenvolvido para o curso [Practical Reinforcement Learning](https://www.coursera.org/learn/practical-rl)."
      ]
    },
    {
      "cell_type": "code",
      "metadata": {
        "id": "rOI2lpZcnrOI"
      },
      "source": [
        "from IPython.display import clear_output\n",
        "\n",
        "def show_progress(batch_rewards, log, percentile, reward_range=[-990,+10]):\n",
        "    \"\"\"\n",
        "    A convenience function that displays training progress. \n",
        "    No cool math here, just charts.\n",
        "    \"\"\"\n",
        "    \n",
        "    mean_reward, threshold = np.mean(batch_rewards), np.percentile(batch_rewards, percentile)\n",
        "    log.append([mean_reward, threshold])\n",
        "\n",
        "    clear_output(True)\n",
        "    print(\"mean reward = %.3f, threshold=%.3f\"%(mean_reward, threshold))\n",
        "    plt.figure(figsize=[8,4])\n",
        "    plt.subplot(1,2,1)\n",
        "    plt.plot(list(zip(*log))[0], label='Mean rewards')\n",
        "    plt.plot(list(zip(*log))[1], label='Reward thresholds')\n",
        "    plt.legend()\n",
        "    plt.grid()\n",
        "    \n",
        "    plt.subplot(1,2,2)\n",
        "    plt.hist(batch_rewards, range=reward_range);\n",
        "    plt.vlines([np.percentile(batch_rewards, percentile)], [0], [100], label=\"percentile\", color='red')\n",
        "    plt.legend()\n",
        "    plt.grid()\n",
        "\n",
        "    plt.show()"
      ],
      "execution_count": 8,
      "outputs": []
    },
    {
      "cell_type": "markdown",
      "metadata": {
        "id": "VCSZCemSoBPM"
      },
      "source": [
        "## Treinamento\n",
        "\n",
        "Podemos agora treinar o nosso modelo e conferir os resultados, para isso selecionaremos os melhores jogos e treinaremos a rede para mapear os estados apresentados para as ações tomadas."
      ]
    },
    {
      "cell_type": "code",
      "metadata": {
        "id": "2Moj3TZKoWqn"
      },
      "source": [
        "from tesorflow.keras.utils import to_categorical\n",
        "\n",
        "n_sessions = 50\n",
        "percentile = 75\n",
        "log = []\n",
        "\n",
        "for i in range(100):\n",
        "    #generate new sessions\n",
        "    sessions = [generate_session(tmax=int(1e7)) for _ in tqdm.trange(n_sessions)]\n",
        "    \n",
        "    batch_states,batch_actions,batch_rewards = map(np.array,zip(*sessions))\n",
        "    \n",
        "    elite_states, elite_actions = select_elites(batch_states,batch_actions,batch_rewards, percentile=percentile)\n",
        "    model.fit(elite_states, to_categorical(elite_actions))\n",
        "    show_progress(batch_rewards, log, percentile, reward_range=[np.min(batch_rewards), np.max(batch_rewards)])\n",
        "    \n",
        "    model.save('./inverted_pendulum.h5')\n",
        "    \n",
        "    if np.mean(batch_rewards) > 499:\n",
        "      print(\"Training complete\")\n",
        "      break"
      ],
      "execution_count": null,
      "outputs": []
    },
    {
      "cell_type": "markdown",
      "metadata": {
        "id": "WwPJDCDnCOwR"
      },
      "source": [
        "## Resultados"
      ]
    },
    {
      "cell_type": "code",
      "metadata": {
        "id": "xMgN8sbsCOI4"
      },
      "source": [
        "#record sessions\n",
        "import gym.wrappers\n",
        "env = gym.wrappers.Monitor(gym.make(\"CartPole-v1\"), directory=\"videos\", force=True)\n",
        "sessions = [generate_session(int(1e5)) for _ in range(100)]\n",
        "env.close()"
      ],
      "execution_count": null,
      "outputs": []
    },
    {
      "cell_type": "code",
      "metadata": {
        "id": "krl7iq9rjUQX"
      },
      "source": [
        "from google.colab import files\n",
        "import os\n",
        "\n",
        "video_names = list(filter(lambda s:s.endswith(\".mp4\"), os.listdir(\"./videos/\")))\n",
        "files.download('./videos/'+video_names[-1])"
      ],
      "execution_count": null,
      "outputs": []
    },
    {
      "cell_type": "code",
      "metadata": {
        "id": "oYrjO652bgYk"
      },
      "source": [
        "!ls videos"
      ],
      "execution_count": null,
      "outputs": []
    }
  ]
}