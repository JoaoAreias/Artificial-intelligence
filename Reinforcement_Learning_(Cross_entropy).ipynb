{
  "nbformat": 4,
  "nbformat_minor": 0,
  "metadata": {
    "colab": {
      "name": "Reinforcement Learning (Cross entropy)",
      "version": "0.3.2",
      "provenance": [],
      "collapsed_sections": [],
      "include_colab_link": true
    },
    "kernelspec": {
      "name": "python3",
      "display_name": "Python 3"
    }
  },
  "cells": [
    {
      "cell_type": "markdown",
      "metadata": {
        "id": "view-in-github",
        "colab_type": "text"
      },
      "source": [
        "<a href=\"https://colab.research.google.com/github/JoaoAreias/Artificial-intelligence/blob/master/Reinforcement_Learning_(Cross_entropy).ipynb\" target=\"_parent\"><img src=\"https://colab.research.google.com/assets/colab-badge.svg\" alt=\"Open In Colab\"/></a>"
      ]
    },
    {
      "metadata": {
        "id": "mKi7KXI2QBuv",
        "colab_type": "text"
      },
      "cell_type": "markdown",
      "source": [
        "# Aprendizado por reforço\n",
        "A aprendizagem por reforço é um método de apendizado não supervisionado que consiste em simular o ambiente e permitir que um agente interaja com o ambiente.\n",
        "\n",
        "<center>![Fonte: Wikipédia](https://upload.wikimedia.org/wikipedia/commons/1/1b/Reinforcement_learning_diagram.svg)</center>\n",
        "\n",
        "Este método busca recompensar atitudes positivas do agente no ambiente e penalizar atitudes negativas.\n",
        "\n",
        "### O agente\n",
        "O agente é o modelo para o qual esta se aplicando o algorítimo de aprendizagem sendo comumente utilizadas redes neurais para o processo. Este agente recebe as variáveis de estado que descrevem o ambiente e retornam a ação pela qual ele irá interagir com o ambiente.\n",
        "\n",
        "Uma vez a ação é executada o agente se encontrará em um outro estado e receberá uma recompença pelo feito. O objetivo do agente é maximizar a recompensa total.\n",
        "\n",
        "### Recompensa\n",
        "A recompensa define o objetivo pelo qual o agente deve ser otimizado. O passo de definir quais serão as recompenças deve ser feito com cuidado pois uma definição errônea [pode levar a resultados não desejados](https://blog.openai.com/faulty-reward-functions/). Os problemas e as formas de evita-los fogem do escopo deste tutorial.\n",
        "\n",
        "### Método da entropia cruzada\n",
        "\n",
        "O método da entropia cruzada consiste na utilização do método de Monte Carlo para avaliar a importância de um estimador. O algorítimo por si, consiste na repetição de 2 passos:\n",
        "\n",
        "- Colete amostras da distribuição estimada\n",
        "- Minimize a [entropia cruzada](https://en.wikipedia.org/wiki/Cross_entropy) entre a distribuição desejada e a distribuição estimada para que uma estimativa melhor seja feita no próximo passo.\n",
        "\n",
        "A aprendizagem por reforço busca representar o problema pelo processo de decisão de Markov onde a recompença esperada dada um estado depende apenas dos estados futuros. Para a aprendizagem por reforço nós buscamos modelar o processo de Markov que maximiza a recompença esperada."
      ]
    },
    {
      "metadata": {
        "id": "0oVZb7pXdH-M",
        "colab_type": "text"
      },
      "cell_type": "markdown",
      "source": [
        "## Setup\n",
        "\n",
        "Vamos primeiro instalar algumas bibliotecas necessárias para a visualização."
      ]
    },
    {
      "metadata": {
        "id": "LkJu5DfGd0OH",
        "colab_type": "code",
        "colab": {},
        "cellView": "code"
      },
      "cell_type": "code",
      "source": [
        "#@title Default title text\n",
        "!apt install xvfb ffmpeg -y\n",
        "!apt-get install python-opengl -y\n",
        "\n",
        "!pip install -q pyvirtualdisplay\n",
        "!pip install -q piglet\n",
        "!pip install -q gym\n"
      ],
      "execution_count": 0,
      "outputs": []
    },
    {
      "metadata": {
        "id": "Vj5rtc95eR5C",
        "colab_type": "text"
      },
      "cell_type": "markdown",
      "source": [
        "Agora podemos importar alguns módulos que vamos usar durante este tutorial"
      ]
    },
    {
      "metadata": {
        "id": "bbxHRDIpdHka",
        "colab_type": "code",
        "colab": {}
      },
      "cell_type": "code",
      "source": [
        "from pyvirtualdisplay import Display\n",
        "display = Display(visible=0, size=(1400, 900))\n",
        "display.start()\n",
        "\n",
        "import numpy as np\n",
        "import tqdm\n",
        "import matplotlib.pyplot as plt\n",
        "%matplotlib inline"
      ],
      "execution_count": 0,
      "outputs": []
    },
    {
      "metadata": {
        "id": "38A1ds9EaIny",
        "colab_type": "text"
      },
      "cell_type": "markdown",
      "source": [
        "## O ambiente\n",
        "Vamos começar primeiramente com o ambiente de simulação e o problema que queremos resolver. Para este caso vamos trabalhar com o controle de um pendulo invertido de forma a manter ele estável. Podemos agradecer a [OpenAi](https://openai.com/) por facilitar o nosso serviço disponibilizando um [ambiente para simulação](https://gym.openai.com/envs/CartPole-v1/)."
      ]
    },
    {
      "metadata": {
        "id": "FmG-T8Ftbewi",
        "colab_type": "code",
        "outputId": "96b18615-d853-4a9d-962a-592e27bbc414",
        "colab": {
          "base_uri": "https://localhost:8080/",
          "height": 305
        }
      },
      "cell_type": "code",
      "source": [
        "import gym\n",
        "env = gym.make(\"CartPole-v1\")\n",
        "env.reset()\n",
        "plt.imshow(env.render('rgb_array'))\n",
        "print(\"Espaço de estados:\", env.observation_space)\n",
        "print(\"Possiveis ações:\", env.action_space)"
      ],
      "execution_count": 0,
      "outputs": [
        {
          "output_type": "stream",
          "text": [
            "Espaço de estados: Box(4,)\n",
            "Possiveis ações: Discrete(2)\n"
          ],
          "name": "stdout"
        },
        {
          "output_type": "display_data",
          "data": {
            "image/png": "[encoded data removed]",
            "text/plain": [
              "<matplotlib.figure.Figure at 0x7ff5821e5d68>"
            ]
          },
          "metadata": {
            "tags": []
          }
        }
      ]
    },
    {
      "metadata": {
        "id": "BlOXF-nnZ1-X",
        "colab_type": "text"
      },
      "cell_type": "markdown",
      "source": [
        "## O Modelo\n"
      ]
    },
    {
      "metadata": {
        "id": "xvlktkmchGFt",
        "colab_type": "text"
      },
      "cell_type": "markdown",
      "source": [
        "O modelo deve ter como entrada os estados e como saída as ações, assim, usamos uma rede com 4 neurônios na entrada e 2 neurônios na saída."
      ]
    },
    {
      "metadata": {
        "id": "lvjj2fauP5R7",
        "colab_type": "code",
        "outputId": "0fd04017-d6e6-42df-df7a-9b9a38a53549",
        "colab": {
          "base_uri": "https://localhost:8080/",
          "height": 35
        }
      },
      "cell_type": "code",
      "source": [
        "from keras.models import Sequential\n",
        "from keras.layers import Dense, Activation\n",
        "\n",
        "def make_model():\n",
        "  model = Sequential()\n",
        "  model.add(Dense(10, input_dim=4, activation='relu'))\n",
        "  model.add(Dense(10, activation='relu'))\n",
        "  model.add(Dense(2, activation='softmax'))\n",
        "  \n",
        "  model.compile(loss='categorical_crossentropy',optimizer='rmsprop', metrics=['accuracy'])\n",
        "  return model"
      ],
      "execution_count": 0,
      "outputs": [
        {
          "output_type": "stream",
          "text": [
            "Using TensorFlow backend.\n"
          ],
          "name": "stderr"
        }
      ]
    },
    {
      "metadata": {
        "id": "6INeGQjOilWr",
        "colab_type": "code",
        "colab": {}
      },
      "cell_type": "code",
      "source": [
        "model = make_model()"
      ],
      "execution_count": 0,
      "outputs": []
    },
    {
      "metadata": {
        "id": "F_kuHVQyjDux",
        "colab_type": "text"
      },
      "cell_type": "markdown",
      "source": [
        "## A simulação\n",
        "\n",
        "Agora podemos simular o ambiente para que possamos treinar a nossa rede neural. Primeiro criamos a função que irá realizar a simulação."
      ]
    },
    {
      "metadata": {
        "id": "Q2fI9Ispjb07",
        "colab_type": "code",
        "colab": {}
      },
      "cell_type": "code",
      "source": [
        "def generate_session(tmax=10000):\n",
        "  states, actions = [], []\n",
        "  total_reward = 0\n",
        "  \n",
        "  state = env.reset()\n",
        "  for t in range(tmax):\n",
        "    probs = model.predict(np.expand_dims(state, axis=0))\n",
        "    action = np.random.choice(2, p=np.ravel(probs))\n",
        "    \n",
        "    new_s, r, done, _ = env.step(action)\n",
        "    \n",
        "    states.append(state)\n",
        "    actions.append(action)\n",
        "    total_reward += r\n",
        "    \n",
        "    state = new_s\n",
        "    if done:\n",
        "      break\n",
        "  return states, actions, total_reward\n",
        "  "
      ],
      "execution_count": 0,
      "outputs": []
    },
    {
      "metadata": {
        "id": "NWN7vOGImS6h",
        "colab_type": "text"
      },
      "cell_type": "markdown",
      "source": [
        "Queremos então selecionar quais simulações tiveram a melhor recompensa."
      ]
    },
    {
      "metadata": {
        "id": "wMBbWOYtmgwY",
        "colab_type": "code",
        "colab": {}
      },
      "cell_type": "code",
      "source": [
        "def select_elites(states_batch, actions_batch, rewards_batch, percentile=50):\n",
        "  reward_threshold = np.percentile(rewards_batch, percentile)\n",
        "  \n",
        "  elite_states  = np.vstack(states_batch[rewards_batch >= reward_threshold])\n",
        "  elite_actions = np.hstack(actions_batch[rewards_batch >= reward_threshold])\n",
        "  \n",
        "  return elite_states, elite_actions"
      ],
      "execution_count": 0,
      "outputs": []
    },
    {
      "metadata": {
        "id": "c-trh0mbnKll",
        "colab_type": "text"
      },
      "cell_type": "markdown",
      "source": [
        "Por último queremos ver o resultado do treinamento, assim, utilizei o código apresentado [aqui](https://github.com/yandexdataschool/Practical_RL), desenvolvido para o curso [Practical Reinforcement Learning](https://www.coursera.org/learn/practical-rl)."
      ]
    },
    {
      "metadata": {
        "id": "rOI2lpZcnrOI",
        "colab_type": "code",
        "colab": {}
      },
      "cell_type": "code",
      "source": [
        "from IPython.display import clear_output\n",
        "\n",
        "def show_progress(batch_rewards, log, percentile, reward_range=[-990,+10]):\n",
        "    \"\"\"\n",
        "    A convenience function that displays training progress. \n",
        "    No cool math here, just charts.\n",
        "    \"\"\"\n",
        "    \n",
        "    mean_reward, threshold = np.mean(batch_rewards), np.percentile(batch_rewards, percentile)\n",
        "    log.append([mean_reward, threshold])\n",
        "\n",
        "    clear_output(True)\n",
        "    print(\"mean reward = %.3f, threshold=%.3f\"%(mean_reward, threshold))\n",
        "    plt.figure(figsize=[8,4])\n",
        "    plt.subplot(1,2,1)\n",
        "    plt.plot(list(zip(*log))[0], label='Mean rewards')\n",
        "    plt.plot(list(zip(*log))[1], label='Reward thresholds')\n",
        "    plt.legend()\n",
        "    plt.grid()\n",
        "    \n",
        "    plt.subplot(1,2,2)\n",
        "    plt.hist(batch_rewards, range=reward_range);\n",
        "    plt.vlines([np.percentile(batch_rewards, percentile)], [0], [100], label=\"percentile\", color='red')\n",
        "    plt.legend()\n",
        "    plt.grid()\n",
        "\n",
        "    plt.show()"
      ],
      "execution_count": 0,
      "outputs": []
    },
    {
      "metadata": {
        "id": "VCSZCemSoBPM",
        "colab_type": "text"
      },
      "cell_type": "markdown",
      "source": [
        "## Treinamento\n",
        "\n",
        "Podemos agora treinar o nosso modelo e conferir os resultados, para isso selecionaremos os melhores jogos e treinaremos a rede para mapear os estados apresentados para as ações tomadas."
      ]
    },
    {
      "metadata": {
        "id": "2Moj3TZKoWqn",
        "colab_type": "code",
        "outputId": "eb7c1abf-dfad-40a3-e5b8-f856451a911d",
        "colab": {
          "base_uri": "https://localhost:8080/",
          "height": 283
        }
      },
      "cell_type": "code",
      "source": [
        "from keras.utils import to_categorical\n",
        "\n",
        "n_sessions = 200\n",
        "percentile = 60\n",
        "log = []\n",
        "\n",
        "for i in range(100):\n",
        "    #generate new sessions\n",
        "    sessions = [generate_session(tmax=int(1e6)) for _ in tqdm.trange(n_sessions)]\n",
        "    \n",
        "    batch_states,batch_actions,batch_rewards = map(np.array,zip(*sessions))\n",
        "    \n",
        "    elite_states, elite_actions = select_elites(batch_states,batch_actions,batch_rewards, percentile=percentile)\n",
        "    model.fit(elite_states, to_categorical(elite_actions))\n",
        "    show_progress(batch_rewards, log, percentile, reward_range=[np.min(batch_rewards), np.max(batch_rewards)])"
      ],
      "execution_count": 0,
      "outputs": [
        {
          "output_type": "stream",
          "text": [
            "mean reward = 500.000, threshold=500.000\n"
          ],
          "name": "stdout"
        },
        {
          "output_type": "display_data",
          "data": {
            "image/png": "[encoded data removed]",
            "text/plain": [
              "<matplotlib.figure.Figure at 0x7ff56371e710>"
            ]
          },
          "metadata": {
            "tags": []
          }
        }
      ]
    },
    {
      "metadata": {
        "id": "WwPJDCDnCOwR",
        "colab_type": "text"
      },
      "cell_type": "markdown",
      "source": [
        "## Resultados"
      ]
    },
    {
      "metadata": {
        "id": "xMgN8sbsCOI4",
        "colab_type": "code",
        "colab": {}
      },
      "cell_type": "code",
      "source": [
        "#record sessions\n",
        "import gym.wrappers\n",
        "env = gym.wrappers.Monitor(gym.make(\"CartPole-v1\"), directory=\"videos\", force=True)\n",
        "sessions = [generate_session(int(1e5)) for _ in range(100)]\n",
        "env.close()"
      ],
      "execution_count": 0,
      "outputs": []
    },
    {
      "metadata": {
        "id": "krl7iq9rjUQX",
        "colab_type": "code",
        "colab": {}
      },
      "cell_type": "code",
      "source": [
        "from google.colab import files\n",
        "\n",
        "video_names = list(filter(lambda s:s.endswith(\".mp4\"), os.listdir(\"./videos/\")))\n",
        "files.download('./videos/'+video_names[-1])"
      ],
      "execution_count": 0,
      "outputs": []
    }
  ]
}